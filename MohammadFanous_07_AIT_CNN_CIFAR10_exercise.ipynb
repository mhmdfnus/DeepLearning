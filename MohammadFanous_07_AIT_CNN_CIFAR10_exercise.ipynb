{
  "cells": [
    {
      "cell_type": "markdown",
      "metadata": {
        "id": "cW-EyI5Lxpqi"
      },
      "source": [
        "# Copyright\n",
        "\n",
        "<PRE>\n",
        "Copyright (c) 2024 Bálint Gyires-Tóth - All Rights Reserved\n",
        "You may use and modify this code for research and development purpuses.\n",
        "Using this code for educational purposes (self-paced or instructor led) without the permission of the author is prohibited.\n",
        "</PRE>"
      ]
    },
    {
      "cell_type": "markdown",
      "metadata": {
        "id": "3EX4cCa4WKJu"
      },
      "source": [
        "# Convolutional Neural Network exercise\n",
        "\n",
        "In this notebook, you will build a convolutional neural network, which offers superior results over the previous MLP solution. Additionally, you will perform a more detailed evaluation."
      ]
    },
    {
      "cell_type": "code",
      "execution_count": null,
      "metadata": {
        "id": "GdCMhy4HA2qd"
      },
      "outputs": [],
      "source": [
        "# imports\n",
        "from tensorflow.keras.datasets import cifar10\n",
        "from tensorflow.keras.utils import to_categorical\n",
        "import numpy as np\n",
        "import matplotlib.pyplot as plt\n",
        "from tensorflow.keras.models import Sequential\n",
        "from tensorflow.keras.layers import Dense, Conv2D, MaxPool2D, Flatten, Dropout, BatchNormalization\n",
        "from tensorflow.keras.initializers import HeNormal\n",
        "from tensorflow.keras.callbacks import EarlyStopping\n",
        "from tensorflow.keras import regularizers"
      ]
    },
    {
      "cell_type": "markdown",
      "metadata": {
        "id": "yY9fztIeWIKt"
      },
      "source": [
        "# 1. Data\n",
        "The dataset we will use is the well-known CIFAR10 (Canadian Institute For Advanced Research). Explore the details on the Keras website first: https://keras.io/api/datasets/cifar10/\n",
        "\n",
        "There isn't much difference between the data preprocessing part and the one we did before. The only difference is that we don't have to reshape images into vectors, but we are working with a 4 dimensional data structure, where the dimensions are: batch, X, Y, and color channels.\n",
        "\n",
        "In the event that anything is not clear regarding the data preparation part, please check the previous CIFAR10 notebook."
      ]
    },
    {
      "cell_type": "code",
      "execution_count": null,
      "metadata": {
        "id": "bez7q0eiWQCK",
        "colab": {
          "base_uri": "https://localhost:8080/"
        },
        "outputId": "ef753192-f821-444f-8263-19969faf9171"
      },
      "outputs": [
        {
          "output_type": "stream",
          "name": "stdout",
          "text": [
            "Downloading data from https://www.cs.toronto.edu/~kriz/cifar-10-python.tar.gz\n",
            "170498071/170498071 [==============================] - 2s 0us/step\n"
          ]
        }
      ],
      "source": [
        "(X_train, Y_train), (X_test, Y_test) = cifar10.load_data()"
      ]
    },
    {
      "cell_type": "code",
      "execution_count": null,
      "metadata": {
        "id": "vukOcBM0XzSj"
      },
      "outputs": [],
      "source": [
        "# it is in int8 format, the neural network requires float32\n",
        "X_train = X_train.astype(\"float32\")\n",
        "X_test = X_test.astype(\"float32\")"
      ]
    },
    {
      "cell_type": "code",
      "execution_count": null,
      "metadata": {
        "id": "mRwuWxxIxLgN"
      },
      "outputs": [],
      "source": [
        "train_ratio  = 0.8\n",
        "train_length = X_train.shape[0]\n",
        "train_split  = int(train_ratio*train_length)\n",
        "X_valid, Y_valid = X_train[train_split:], Y_train[train_split:]\n",
        "X_train, Y_train = X_train[:train_split], Y_train[:train_split]"
      ]
    },
    {
      "cell_type": "code",
      "execution_count": null,
      "metadata": {
        "id": "2ESLP1EIyB2J"
      },
      "outputs": [],
      "source": [
        "mean = X_train.mean(axis=0)\n",
        "std  = X_train.std(axis=0)\n",
        "\n",
        "X_train = (X_train-mean)/std\n",
        "X_valid = (X_valid-mean)/std\n",
        "X_test  = (X_test-mean)/std"
      ]
    },
    {
      "cell_type": "code",
      "execution_count": null,
      "metadata": {
        "id": "xwZ4OJ6I8lba"
      },
      "outputs": [],
      "source": [
        "nb_classes = len(np.unique(Y_train))\n",
        "Y_train = to_categorical(Y_train, nb_classes)\n",
        "Y_valid = to_categorical(Y_valid, nb_classes)\n",
        "Y_test  = to_categorical(Y_test, nb_classes)"
      ]
    },
    {
      "cell_type": "code",
      "execution_count": null,
      "metadata": {
        "id": "O_jdJVcvX0vi",
        "colab": {
          "base_uri": "https://localhost:8080/"
        },
        "outputId": "081caf1b-b5d4-4d2f-d390-f730b74b9f5a"
      },
      "outputs": [
        {
          "output_type": "stream",
          "name": "stdout",
          "text": [
            "Shapes of the training, validation and test input data: (40000, 32, 32, 3) (10000, 32, 32, 3) (10000, 32, 32, 3)\n",
            "Shapes of the training, validation and test output data: (40000, 10) (10000, 10) (10000, 10)\n",
            "Mean values of the training, validation and test input data: 2.2788842e-09 0.0023437198 0.013331206\n",
            "Standard deviation of the training, validation and test input data: 1.0000023 0.9965626 0.99783075\n"
          ]
        }
      ],
      "source": [
        "print(\"Shapes of the training, validation and test input data:\", X_train.shape, X_valid.shape, X_test.shape)\n",
        "print(\"Shapes of the training, validation and test output data:\", Y_train.shape, Y_valid.shape, Y_test.shape)\n",
        "print(\"Mean values of the training, validation and test input data:\", X_train.mean(), X_valid.mean(), X_test.mean())\n",
        "print(\"Standard deviation of the training, validation and test input data:\", X_train.std(), X_valid.std(), X_test.std())"
      ]
    },
    {
      "cell_type": "markdown",
      "metadata": {
        "id": "cJ14oyZExpqj"
      },
      "source": [
        "# 2. Exercise: training"
      ]
    },
    {
      "cell_type": "markdown",
      "metadata": {
        "id": "j1tGVPdD-pp3"
      },
      "source": [
        "Create and train a convolutional neural network with the following requirements:\n",
        "* apply early stopping with patience=5 and monitor the validation accuracy, don't forget to load back the best weights after early stopping\n",
        "* the number of trainable parameters is lower than 200.000\n",
        "* the validation accuracy must be higher than 72%\n",
        "\n",
        "Hints:\n",
        "* you can always inspect the number of trainable parameters per layer with model.summary()\n",
        "* usually the most trainable parameters are between the last convolutional layer and the next dense layer -- so you should have a reasonable output size at the last convolutional layer\n",
        "* regularization helps (e.g. DropOut and/or BatchNormalization)\n",
        "* use the right activation function at the output layer and the corresponding loss function\n",
        "* for the chosen activation functions, please use the appropriate initialization method\n",
        "* you can match the dimension of the last conv/pooling layer to the next dense layer with e.g. Flatten()\n",
        "* ADAM optimizer is a reasonable choice\n",
        "* don't forget to turn on GPU support in Colab, otherwise, it would be quite slow to train the networks\n",
        "\n"
      ]
    },
    {
      "cell_type": "code",
      "execution_count": null,
      "metadata": {
        "id": "5dBQxJHIHrbd"
      },
      "outputs": [],
      "source": [
        "es = EarlyStopping(monitor='val_accuracy', patience=5, restore_best_weights=True) # early stopping"
      ]
    },
    {
      "cell_type": "code",
      "execution_count": null,
      "metadata": {
        "id": "PuxHOqLt-3Nd"
      },
      "outputs": [],
      "source": [
        "# model definition\n",
        "model = Sequential([\n",
        "    Conv2D(128, (3, 3), activation='relu', kernel_initializer=HeNormal(), input_shape=(32, 32, 3)),\n",
        "    BatchNormalization(),\n",
        "    Conv2D(64, (3, 3), activation='relu', kernel_initializer=HeNormal()),\n",
        "    MaxPool2D((2, 2)),\n",
        "    Dropout(0.2),\n",
        "    Conv2D(64, (3, 3), activation='relu', kernel_initializer=HeNormal()),\n",
        "    BatchNormalization(),\n",
        "    Conv2D(32, (3, 3), activation='relu', kernel_initializer=HeNormal()),\n",
        "    MaxPool2D((2, 2)),\n",
        "    Dropout(0.3),\n",
        "    Conv2D(32, (3, 3), activation='relu', kernel_initializer=HeNormal()),\n",
        "    Flatten(),\n",
        "    Dense(128, activation='relu', kernel_initializer=HeNormal(), kernel_regularizer=regularizers.l2(0.001)),\n",
        "    Dropout(0.4),\n",
        "    Dense(10, activation='softmax', kernel_initializer=HeNormal())\n",
        "])\n",
        "\n",
        "\n",
        "# loss function and optimizer\n",
        "model.compile(optimizer='adam', loss='categorical_crossentropy', metrics=['accuracy'])"
      ]
    },
    {
      "cell_type": "code",
      "execution_count": null,
      "metadata": {
        "colab": {
          "base_uri": "https://localhost:8080/"
        },
        "id": "5eomQw8uE9Ix",
        "outputId": "09a9f704-4736-4e10-c692-bcb4acc2700e"
      },
      "outputs": [
        {
          "output_type": "stream",
          "name": "stdout",
          "text": [
            "Model: \"sequential\"\n",
            "_________________________________________________________________\n",
            " Layer (type)                Output Shape              Param #   \n",
            "=================================================================\n",
            " conv2d (Conv2D)             (None, 30, 30, 128)       3584      \n",
            "                                                                 \n",
            " batch_normalization (Batch  (None, 30, 30, 128)       512       \n",
            " Normalization)                                                  \n",
            "                                                                 \n",
            " conv2d_1 (Conv2D)           (None, 28, 28, 64)        73792     \n",
            "                                                                 \n",
            " max_pooling2d (MaxPooling2  (None, 14, 14, 64)        0         \n",
            " D)                                                              \n",
            "                                                                 \n",
            " dropout (Dropout)           (None, 14, 14, 64)        0         \n",
            "                                                                 \n",
            " conv2d_2 (Conv2D)           (None, 12, 12, 64)        36928     \n",
            "                                                                 \n",
            " batch_normalization_1 (Bat  (None, 12, 12, 64)        256       \n",
            " chNormalization)                                                \n",
            "                                                                 \n",
            " conv2d_3 (Conv2D)           (None, 10, 10, 32)        18464     \n",
            "                                                                 \n",
            " max_pooling2d_1 (MaxPoolin  (None, 5, 5, 32)          0         \n",
            " g2D)                                                            \n",
            "                                                                 \n",
            " dropout_1 (Dropout)         (None, 5, 5, 32)          0         \n",
            "                                                                 \n",
            " conv2d_4 (Conv2D)           (None, 3, 3, 32)          9248      \n",
            "                                                                 \n",
            " flatten (Flatten)           (None, 288)               0         \n",
            "                                                                 \n",
            " dense (Dense)               (None, 128)               36992     \n",
            "                                                                 \n",
            " dropout_2 (Dropout)         (None, 128)               0         \n",
            "                                                                 \n",
            " dense_1 (Dense)             (None, 10)                1290      \n",
            "                                                                 \n",
            "=================================================================\n",
            "Total params: 181066 (707.29 KB)\n",
            "Trainable params: 180682 (705.79 KB)\n",
            "Non-trainable params: 384 (1.50 KB)\n",
            "_________________________________________________________________\n"
          ]
        }
      ],
      "source": [
        "model.summary()"
      ]
    },
    {
      "cell_type": "markdown",
      "metadata": {
        "id": "8tIbIIeTEI41"
      },
      "source": [
        "Please, check the number of trainable paramers:"
      ]
    },
    {
      "cell_type": "code",
      "execution_count": null,
      "metadata": {
        "colab": {
          "base_uri": "https://localhost:8080/"
        },
        "id": "xdBAG7EJETlX",
        "outputId": "fad5a256-b6d3-40bb-d93e-9237539d699b"
      },
      "outputs": [
        {
          "output_type": "stream",
          "name": "stdout",
          "text": [
            "#trainable parameters: 181066\n"
          ]
        }
      ],
      "source": [
        "print(\"#trainable parameters:\",model.count_params())"
      ]
    },
    {
      "cell_type": "code",
      "execution_count": null,
      "metadata": {
        "colab": {
          "base_uri": "https://localhost:8080/"
        },
        "id": "u8tFNCNVHyt9",
        "outputId": "79cf0c5d-ce5e-46ca-ebb8-4f9b1a3da537"
      },
      "outputs": [
        {
          "output_type": "stream",
          "name": "stdout",
          "text": [
            "Epoch 1/50\n",
            "1000/1000 [==============================] - 18s 10ms/step - loss: 2.0671 - accuracy: 0.2965 - val_loss: 1.6921 - val_accuracy: 0.4086\n",
            "Epoch 2/50\n",
            "1000/1000 [==============================] - 10s 10ms/step - loss: 1.5560 - accuracy: 0.4608 - val_loss: 1.3412 - val_accuracy: 0.5294\n",
            "Epoch 3/50\n",
            "1000/1000 [==============================] - 10s 10ms/step - loss: 1.3272 - accuracy: 0.5477 - val_loss: 1.1706 - val_accuracy: 0.5997\n",
            "Epoch 4/50\n",
            "1000/1000 [==============================] - 10s 10ms/step - loss: 1.1836 - accuracy: 0.6011 - val_loss: 1.0884 - val_accuracy: 0.6341\n",
            "Epoch 5/50\n",
            "1000/1000 [==============================] - 10s 10ms/step - loss: 1.0922 - accuracy: 0.6372 - val_loss: 1.1230 - val_accuracy: 0.6389\n",
            "Epoch 6/50\n",
            "1000/1000 [==============================] - 11s 11ms/step - loss: 1.0118 - accuracy: 0.6656 - val_loss: 0.9951 - val_accuracy: 0.6660\n",
            "Epoch 7/50\n",
            "1000/1000 [==============================] - 10s 10ms/step - loss: 0.9507 - accuracy: 0.6867 - val_loss: 0.9561 - val_accuracy: 0.6883\n",
            "Epoch 8/50\n",
            "1000/1000 [==============================] - 11s 11ms/step - loss: 0.9094 - accuracy: 0.7008 - val_loss: 0.8596 - val_accuracy: 0.7191\n",
            "Epoch 9/50\n",
            "1000/1000 [==============================] - 10s 10ms/step - loss: 0.8715 - accuracy: 0.7150 - val_loss: 0.8920 - val_accuracy: 0.7041\n",
            "Epoch 10/50\n",
            "1000/1000 [==============================] - 10s 10ms/step - loss: 0.8356 - accuracy: 0.7307 - val_loss: 0.8585 - val_accuracy: 0.7206\n",
            "Epoch 11/50\n",
            "1000/1000 [==============================] - 11s 11ms/step - loss: 0.8157 - accuracy: 0.7350 - val_loss: 0.8059 - val_accuracy: 0.7400\n",
            "Epoch 12/50\n",
            "1000/1000 [==============================] - 10s 10ms/step - loss: 0.7886 - accuracy: 0.7476 - val_loss: 0.8422 - val_accuracy: 0.7261\n",
            "Epoch 13/50\n",
            "1000/1000 [==============================] - 11s 11ms/step - loss: 0.7674 - accuracy: 0.7545 - val_loss: 0.8230 - val_accuracy: 0.7329\n",
            "Epoch 14/50\n",
            "1000/1000 [==============================] - 10s 10ms/step - loss: 0.7482 - accuracy: 0.7635 - val_loss: 0.8174 - val_accuracy: 0.7400\n",
            "Epoch 15/50\n",
            "1000/1000 [==============================] - 10s 10ms/step - loss: 0.7341 - accuracy: 0.7644 - val_loss: 0.7800 - val_accuracy: 0.7549\n",
            "Epoch 16/50\n",
            "1000/1000 [==============================] - 11s 11ms/step - loss: 0.7174 - accuracy: 0.7747 - val_loss: 0.7694 - val_accuracy: 0.7577\n",
            "Epoch 17/50\n",
            "1000/1000 [==============================] - 10s 10ms/step - loss: 0.7065 - accuracy: 0.7787 - val_loss: 0.7872 - val_accuracy: 0.7564\n",
            "Epoch 18/50\n",
            "1000/1000 [==============================] - 11s 11ms/step - loss: 0.6892 - accuracy: 0.7825 - val_loss: 0.7708 - val_accuracy: 0.7596\n",
            "Epoch 19/50\n",
            "1000/1000 [==============================] - 10s 10ms/step - loss: 0.6791 - accuracy: 0.7841 - val_loss: 0.7616 - val_accuracy: 0.7575\n",
            "Epoch 20/50\n",
            "1000/1000 [==============================] - 11s 11ms/step - loss: 0.6655 - accuracy: 0.7898 - val_loss: 0.7600 - val_accuracy: 0.7607\n",
            "Epoch 21/50\n",
            "1000/1000 [==============================] - 11s 11ms/step - loss: 0.6659 - accuracy: 0.7923 - val_loss: 0.7788 - val_accuracy: 0.7626\n",
            "Epoch 22/50\n",
            "1000/1000 [==============================] - 11s 11ms/step - loss: 0.6431 - accuracy: 0.7987 - val_loss: 0.7891 - val_accuracy: 0.7574\n",
            "Epoch 23/50\n",
            "1000/1000 [==============================] - 11s 11ms/step - loss: 0.6422 - accuracy: 0.8001 - val_loss: 0.7386 - val_accuracy: 0.7682\n",
            "Epoch 24/50\n",
            "1000/1000 [==============================] - 10s 10ms/step - loss: 0.6312 - accuracy: 0.8034 - val_loss: 0.7439 - val_accuracy: 0.7644\n",
            "Epoch 25/50\n",
            "1000/1000 [==============================] - 11s 11ms/step - loss: 0.6288 - accuracy: 0.8042 - val_loss: 0.7532 - val_accuracy: 0.7689\n",
            "Epoch 26/50\n",
            "1000/1000 [==============================] - 10s 10ms/step - loss: 0.6204 - accuracy: 0.8048 - val_loss: 0.7361 - val_accuracy: 0.7734\n",
            "Epoch 27/50\n",
            "1000/1000 [==============================] - 10s 10ms/step - loss: 0.6072 - accuracy: 0.8098 - val_loss: 0.7782 - val_accuracy: 0.7590\n",
            "Epoch 28/50\n",
            "1000/1000 [==============================] - 11s 11ms/step - loss: 0.6062 - accuracy: 0.8108 - val_loss: 0.7144 - val_accuracy: 0.7799\n",
            "Epoch 29/50\n",
            "1000/1000 [==============================] - 11s 11ms/step - loss: 0.6015 - accuracy: 0.8150 - val_loss: 0.7406 - val_accuracy: 0.7785\n",
            "Epoch 30/50\n",
            "1000/1000 [==============================] - 10s 10ms/step - loss: 0.5898 - accuracy: 0.8146 - val_loss: 0.7195 - val_accuracy: 0.7811\n",
            "Epoch 31/50\n",
            "1000/1000 [==============================] - 11s 11ms/step - loss: 0.5847 - accuracy: 0.8217 - val_loss: 0.7306 - val_accuracy: 0.7725\n",
            "Epoch 32/50\n",
            "1000/1000 [==============================] - 10s 10ms/step - loss: 0.5808 - accuracy: 0.8199 - val_loss: 0.7421 - val_accuracy: 0.7784\n",
            "Epoch 33/50\n",
            "1000/1000 [==============================] - 10s 10ms/step - loss: 0.5779 - accuracy: 0.8202 - val_loss: 0.7571 - val_accuracy: 0.7728\n",
            "Epoch 34/50\n",
            "1000/1000 [==============================] - 10s 10ms/step - loss: 0.5682 - accuracy: 0.8247 - val_loss: 0.7111 - val_accuracy: 0.7864\n",
            "Epoch 35/50\n",
            "1000/1000 [==============================] - 11s 11ms/step - loss: 0.5608 - accuracy: 0.8261 - val_loss: 0.7363 - val_accuracy: 0.7805\n",
            "Epoch 36/50\n",
            "1000/1000 [==============================] - 10s 10ms/step - loss: 0.5585 - accuracy: 0.8275 - val_loss: 0.7394 - val_accuracy: 0.7806\n",
            "Epoch 37/50\n",
            "1000/1000 [==============================] - 10s 10ms/step - loss: 0.5601 - accuracy: 0.8283 - val_loss: 0.6973 - val_accuracy: 0.7864\n",
            "Epoch 38/50\n",
            "1000/1000 [==============================] - 10s 10ms/step - loss: 0.5522 - accuracy: 0.8289 - val_loss: 0.7308 - val_accuracy: 0.7815\n",
            "Epoch 39/50\n",
            "1000/1000 [==============================] - 10s 10ms/step - loss: 0.5410 - accuracy: 0.8343 - val_loss: 0.7232 - val_accuracy: 0.7893\n",
            "Epoch 40/50\n",
            "1000/1000 [==============================] - 11s 11ms/step - loss: 0.5451 - accuracy: 0.8317 - val_loss: 0.7623 - val_accuracy: 0.7772\n",
            "Epoch 41/50\n",
            "1000/1000 [==============================] - 10s 10ms/step - loss: 0.5367 - accuracy: 0.8355 - val_loss: 0.7517 - val_accuracy: 0.7772\n",
            "Epoch 42/50\n",
            "1000/1000 [==============================] - 10s 10ms/step - loss: 0.5345 - accuracy: 0.8367 - val_loss: 0.7499 - val_accuracy: 0.7747\n",
            "Epoch 43/50\n",
            "1000/1000 [==============================] - 10s 10ms/step - loss: 0.5290 - accuracy: 0.8372 - val_loss: 0.6927 - val_accuracy: 0.7860\n",
            "Epoch 44/50\n",
            "1000/1000 [==============================] - 10s 10ms/step - loss: 0.5261 - accuracy: 0.8405 - val_loss: 0.7211 - val_accuracy: 0.7874\n"
          ]
        }
      ],
      "source": [
        "# training\n",
        "network_history = model.fit(X_train, Y_train, epochs=50, validation_split=0.2, callbacks=[es])"
      ]
    },
    {
      "cell_type": "markdown",
      "metadata": {
        "id": "2FtKp-a2-A9m"
      },
      "source": [
        "# 3. Exercise: evaluation on test data\n",
        "You will evaluate the classification of the test data using the common metrics and the confusion matrix in this section.\n",
        "\n",
        "\n",
        "As a first stes, let's run the predictions and convert the predicted softmax outputs to dense labels. The one-hot encoded labels are also converted back to dense labels, as they are required for the evaluation functions."
      ]
    },
    {
      "cell_type": "code",
      "execution_count": null,
      "metadata": {
        "id": "EcWAqwlDMq3y",
        "colab": {
          "base_uri": "https://localhost:8080/"
        },
        "outputId": "a4773d32-d25d-414a-ca4c-ecaddd3c4f60"
      },
      "outputs": [
        {
          "output_type": "stream",
          "name": "stdout",
          "text": [
            "313/313 [==============================] - 1s 3ms/step\n"
          ]
        }
      ],
      "source": [
        "probas = model.predict(X_test)\n",
        "preds  = np.argmax(probas,axis=1)\n",
        "Y_test_dense = np.argmax(Y_test, axis=1) # get the original dense labels of the test data"
      ]
    },
    {
      "cell_type": "markdown",
      "metadata": {
        "id": "RWJ-PH_iMs9K"
      },
      "source": [
        "## 3.1. Exercise: Metrics\n",
        "please review the common classification metrics (accuracy, precision, recall, F1) for the complete model (not per class).\n",
        "\n",
        "Hints:\n",
        "* use macro averaging\n",
        "* you have to import the right functions from [sklearn.metrics](https://scikit-learn.org/stable/modules/model_evaluation.html)\n"
      ]
    },
    {
      "cell_type": "code",
      "execution_count": null,
      "metadata": {
        "id": "5sKm5zHSMZ_x"
      },
      "outputs": [],
      "source": [
        "from sklearn.metrics import accuracy_score, precision_score, recall_score, f1_score"
      ]
    },
    {
      "cell_type": "code",
      "execution_count": null,
      "metadata": {
        "id": "I3_9wgDREUna",
        "colab": {
          "base_uri": "https://localhost:8080/"
        },
        "outputId": "d2f8b23f-6528-4628-d8cb-5790247d5d0c"
      },
      "outputs": [
        {
          "output_type": "stream",
          "name": "stdout",
          "text": [
            "313/313 [==============================] - 2s 6ms/step\n",
            "Accuracy: 0.7916\n",
            "Precision: 0.7916494166612713\n",
            "Recall: 0.7916\n",
            "F1 Score: 0.7910396887855555\n"
          ]
        }
      ],
      "source": [
        "# Predict the classes for test data\n",
        "y_pred = model.predict(X_test)\n",
        "y_pred_classes = np.argmax(y_pred, axis=1)\n",
        "y_true = np.argmax(Y_test, axis=1)\n",
        "\n",
        "# Calculate metrics\n",
        "accuracy = accuracy_score(y_true, y_pred_classes)\n",
        "precision = precision_score(y_true, y_pred_classes, average='macro')\n",
        "recall = recall_score(y_true, y_pred_classes, average='macro')\n",
        "f1 = f1_score(y_true, y_pred_classes, average='macro')\n",
        "\n",
        "# Print metrics\n",
        "print(\"Accuracy:\", accuracy)\n",
        "print(\"Precision:\", precision)\n",
        "print(\"Recall:\", recall)\n",
        "print(\"F1 Score:\", f1)"
      ]
    },
    {
      "cell_type": "markdown",
      "metadata": {
        "id": "ECHguBFtGL7f"
      },
      "source": [
        "\n",
        "## 3.2. Exercise: Confusion matrix\n",
        "Calculate the confusion matrix and display the results in a heatmap (with decimal values).\n",
        "\n",
        "Hints:\n",
        "* you have to do the imports this time too, e.g. from [sklearn.metrics](https://scikit-learn.org/stable/modules/model_evaluation.html) and the [heatmap function](https://seaborn.pydata.org/generated/seaborn.heatmap.html) of [seaborn](https://seaborn.pydata.org/)\n",
        "* for displaying the decimal values, you have to turn annot=True and define fmt='d' in the heatmap function of seaborn"
      ]
    },
    {
      "cell_type": "code",
      "execution_count": null,
      "metadata": {
        "id": "SIi2VzMBO3yD"
      },
      "outputs": [],
      "source": [
        "from sklearn.metrics import confusion_matrix\n",
        "import seaborn as sns"
      ]
    },
    {
      "cell_type": "code",
      "execution_count": null,
      "metadata": {
        "id": "cdqODx92Svw7",
        "colab": {
          "base_uri": "https://localhost:8080/",
          "height": 564
        },
        "outputId": "f99b428d-80a2-4a39-c20d-c0748e71ac52"
      },
      "outputs": [
        {
          "output_type": "display_data",
          "data": {
            "text/plain": [
              "<Figure size 700x600 with 2 Axes>"
            ],
            "image/png": "[encoded data removed]"
          },
          "metadata": {}
        }
      ],
      "source": [
        "y_pred_labels = np.argmax(y_pred, axis=1)\n",
        "\n",
        "# Calculate confusion matrix\n",
        "conf = confusion_matrix(y_true, y_pred_labels)\n",
        "\n",
        "# Display heatmap\n",
        "plt.figure(figsize=(7, 6))\n",
        "sns.heatmap(conf, annot=True, fmt='d', cmap='Blues')\n",
        "plt.xlabel('Predicted labels')\n",
        "plt.ylabel('True labels')\n",
        "plt.title('Confusion Matrix')\n",
        "plt.show()"
      ]
    }
  ],
  "metadata": {
    "anaconda-cloud": {},
    "colab": {
      "provenance": [],
      "gpuType": "T4"
    },
    "kernelspec": {
      "display_name": "Python 3",
      "name": "python3"
    },
    "language_info": {
      "codemirror_mode": {
        "name": "ipython",
        "version": 3
      },
      "file_extension": ".py",
      "mimetype": "text/x-python",
      "name": "python",
      "nbconvert_exporter": "python",
      "pygments_lexer": "ipython3",
      "version": "3.6.6"
    },
    "accelerator": "GPU"
  },
  "nbformat": 4,
  "nbformat_minor": 0
}